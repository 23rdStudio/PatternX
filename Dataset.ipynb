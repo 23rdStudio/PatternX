{
 "cells": [
  {
   "cell_type": "code",
   "execution_count": 1,
   "id": "35f0bb67-2c3f-4185-a1a3-2e110fcff383",
   "metadata": {},
   "outputs": [],
   "source": [
    "from matplotlib import pyplot as pp\n",
    "import numpy as np"
   ]
  },
  {
   "cell_type": "code",
   "execution_count": 2,
   "id": "3c9c922e-af76-46af-9f63-2e7334940684",
   "metadata": {},
   "outputs": [],
   "source": [
    "import main"
   ]
  },
  {
   "cell_type": "code",
   "execution_count": 3,
   "id": "70ce3be7-fc7b-464d-ac24-83128c7be481",
   "metadata": {},
   "outputs": [],
   "source": [
    "m = main.Module()"
   ]
  },
  {
   "cell_type": "markdown",
   "id": "87cf518c-6a78-4729-8b39-6b4241d2ea49",
   "metadata": {},
   "source": [
    "### Dataset\n",
    "\n",
    "Below you can find the list of the datasets that were collected by Steffi. Let's examine them a bit."
   ]
  },
  {
   "cell_type": "code",
   "execution_count": 4,
   "id": "c44c4a8c-e391-49ef-b348-c92163bbe831",
   "metadata": {},
   "outputs": [
    {
     "name": "stdout",
     "output_type": "stream",
     "text": [
      "{'pattern': 'pattern_1', 'geo_tag': 'GSE111061'}\n",
      "{'pattern': 'pattern_1', 'geo_tag': 'GSE80688'}\n",
      "{'pattern': 'pattern_1', 'geo_tag': 'GSE148346'}\n",
      "{'pattern': 'pattern_1', 'geo_tag': 'GSE157538'}\n",
      "{'pattern': 'pattern_1', 'geo_tag': 'GSE65127'}\n",
      "{'pattern': 'pattern_2a', 'geo_tag': 'GSE236758'}\n",
      "{'pattern': 'pattern_2a', 'geo_tag': 'GSE6281'}\n",
      "{'pattern': 'pattern_2a', 'geo_tag': 'GSE168735', 'should_load': False}\n",
      "{'pattern': 'pattern_3', 'geo_tag': 'GSE53795'}\n",
      "{'pattern': 'pattern_3', 'geo_tag': 'GSE11792'}\n",
      "{'pattern': 'pattern_3', 'geo_tag': 'GSE10433'}\n",
      "{'pattern': 'pattern_3', 'geo_tag': 'GSE6475'}\n",
      "{'pattern': 'pattern_3', 'geo_tag': 'GSE122592'}\n",
      "{'pattern': 'pattern_3', 'geo_tag': 'GSE115099'}\n",
      "{'pattern': 'pattern_3', 'geo_tag': 'GSE108110'}\n",
      "{'pattern': 'pattern_4a', 'geo_tag': 'GSE212954'}\n",
      "{'pattern': 'pattern_4a', 'geo_tag': 'GSE151464'}\n",
      "{'pattern': 'pattern_4a', 'geo_tag': 'GSE202855'}\n",
      "{'pattern': 'pattern_4a', 'geo_tag': 'GSE188952'}\n",
      "{'pattern': 'pattern_4a', 'geo_tag': 'GSE173900'}\n",
      "{'pattern': 'pattern_4a', 'geo_tag': 'GSE158395'}\n",
      "{'pattern': 'pattern_4a', 'geo_tag': 'GSE92566'}\n",
      "{'pattern': 'pattern_4a', 'geo_tag': 'GSE234987'}\n",
      "{'pattern': 'pattern_4a', 'geo_tag': 'GSE153011', 'should_load': False}\n",
      "{'pattern': 'pattern_4a', 'geo_tag': 'GSE166863'}\n",
      "{'pattern': 'pattern_4a', 'geo_tag': 'GSE166861'}\n",
      "{'pattern': 'pattern_4a', 'geo_tag': 'GSE9285', 'should_load': False}\n",
      "{'pattern': 'pattern_4b', 'geo_tag': 'GSE158923'}\n",
      "{'pattern': 'pattern_4b', 'geo_tag': 'GSE169146'}\n",
      "{'pattern': 'pattern_4b', 'geo_tag': 'GSE32887'}\n"
     ]
    }
   ],
   "source": [
    "for p in m.cfg['data']['dataset'] :\n",
    "    print( p )"
   ]
  },
  {
   "cell_type": "markdown",
   "id": "c8ab3131-98e3-4a34-9cb5-b0818e461a43",
   "metadata": {},
   "source": [
    "### Data type\n",
    "\n",
    "As I have discovered some of the data is stored as RNA and some as SRA. RNA data is easier to access as the package **GEOParse** can easily read them. For the SRA data the information we are looking for is stored within the supplementary files and I have not been able to load them. Let's see which datasets contain which type of data."
   ]
  },
  {
   "cell_type": "code",
   "execution_count": 6,
   "id": "0922d279-aae1-4835-8f4a-5107829efedd",
   "metadata": {},
   "outputs": [
    {
     "name": "stdout",
     "output_type": "stream",
     "text": [
      "1 GSE111061 pattern_1 SRA\n",
      "2 GSE80688 pattern_1 SRA\n",
      "3 GSE148346 pattern_1 RNA\n",
      "4 GSE157538 pattern_1 SRA\n",
      "5 GSE65127 pattern_1 RNA\n",
      "6 GSE236758 pattern_2a SRA\n",
      "7 GSE6281 pattern_2a RNA\n",
      "8 GSE168735 pattern_2a RNA\n",
      "9 GSE53795 pattern_3 RNA\n",
      "10 GSE11792 pattern_3 RNA\n",
      "11 GSE10433 pattern_3 RNA\n",
      "12 GSE6475 pattern_3 RNA\n",
      "13 GSE122592 pattern_3 SRA\n",
      "14 GSE115099 pattern_3 SRA\n",
      "15 GSE108110 pattern_3 RNA\n",
      "16 GSE212954 pattern_4a SRA\n",
      "17 GSE151464 pattern_4a SRA\n",
      "18 GSE202855 pattern_4a SRA\n",
      "19 GSE188952 pattern_4a SRA\n",
      "20 GSE173900 pattern_4a SRA\n",
      "21 GSE158395 pattern_4a SRA\n",
      "22 GSE92566 pattern_4a RNA\n",
      "23 GSE234987 pattern_4a SRA\n",
      "24 GSE153011 pattern_4a RNA\n",
      "25 GSE166863 pattern_4a SRA\n",
      "26 GSE166861 pattern_4a SRA\n",
      "27 GSE9285 pattern_4a RNA\n",
      "28 GSE158923 pattern_4b SRA\n",
      "29 GSE169146 pattern_4b SRA\n",
      "30 GSE32887 pattern_4b RNA\n"
     ]
    }
   ],
   "source": [
    "m.examine_type()"
   ]
  },
  {
   "cell_type": "markdown",
   "id": "f79207ff-c6f4-4d68-8d0b-79457fc71298",
   "metadata": {},
   "source": [
    "To deal with the SRA data, we either have to figure out how each dataset is loaded or figure out a way to convert SRA to RNA.\n",
    "\n",
    "For now, we will ignore the SRA data to properly understand how to read this data. This leaves us with the following datasets :"
   ]
  },
  {
   "cell_type": "code",
   "execution_count": 14,
   "id": "eabb7e3b-3345-4565-823f-f42e23b2ddbf",
   "metadata": {},
   "outputs": [
    {
     "name": "stdout",
     "output_type": "stream",
     "text": [
      "1 GSE148346 pattern_1 RNA\n",
      "Data shape [ num samples, num genes ] : (129, 30147)\n",
      "2 GSE65127 pattern_1 RNA\n",
      "Data shape [ num samples, num genes ] : (40, 54675)\n",
      "3 GSE6281 pattern_2a RNA\n",
      "Data shape [ num samples, num genes ] : (34, 54675)\n",
      "4 GSE168735 pattern_2a RNA\n",
      "Data shape [ num samples, num genes ] : (103, 21201)\n",
      "5 GSE53795 pattern_3 RNA\n",
      "Data shape [ num samples, num genes ] : (24, 54675)\n",
      "6 GSE11792 pattern_3 RNA\n",
      "Data shape [ num samples, num genes ] : (16, 22277)\n",
      "7 GSE10433 pattern_3 RNA\n",
      "Data shape [ num samples, num genes ] : (12, 22277)\n",
      "8 GSE6475 pattern_3 RNA\n",
      "Data shape [ num samples, num genes ] : (18, 22277)\n",
      "9 GSE108110 pattern_3 RNA\n",
      "Data shape [ num samples, num genes ] : (54, 54675)\n",
      "10 GSE92566 pattern_4a RNA\n",
      "Data shape [ num samples, num genes ] : (7, 54675)\n",
      "11 GSE153011 pattern_4a RNA\n",
      "Data shape [ num samples, num genes ] : (30, 45234)\n",
      "12 GSE9285 pattern_4a RNA\n",
      "Data shape [ num samples, num genes ] : (75, 28495)\n",
      "13 GSE32887 pattern_4b RNA\n",
      "Data shape [ num samples, num genes ] : (31, 54675)\n"
     ]
    }
   ],
   "source": [
    "m.examine_type(ignore_sra=True)"
   ]
  },
  {
   "cell_type": "markdown",
   "id": "9f5e0dbf-a8b7-4d5e-b03c-facddb38539f",
   "metadata": {},
   "source": [
    "## Genes\n",
    "\n",
    "Now we can look at the number of genes in each dataset and how the naming of the genes is coded. I need a way to convert the gene names from one system to another. If we look at **4 - GSE168735**, **11 - GSE153011** and **12 - GSE9285** the gene names are in a different format. We will also ignore these datasets for the time being for me to figure out how to convert the gene names the standarized format. We also have the gene names in the brain dataset that we have to the ones found in this dataset."
   ]
  },
  {
   "cell_type": "code",
   "execution_count": 19,
   "id": "3d94ff46-be8f-4602-af2c-0158798a9730",
   "metadata": {},
   "outputs": [
    {
     "name": "stdout",
     "output_type": "stream",
     "text": [
      "1 GSE148346 pattern_1 RNA\n",
      "Number of genes : 30147\n",
      "['1007_s_at' '1053_at' '117_at' ... 'AFFX-r2-Ec-bioD-5_at'\n",
      " 'AFFX-r2-P1-cre-3_at' 'AFFX-r2-P1-cre-5_at']\n",
      " ****************** \n",
      "2 GSE65127 pattern_1 RNA\n",
      "Number of genes : 54675\n",
      "['1007_s_at' '1053_at' '117_at' ... 'AFFX-r2-Ec-bioD-5_at'\n",
      " 'AFFX-r2-P1-cre-3_at' 'AFFX-r2-P1-cre-5_at']\n",
      " ****************** \n",
      "3 GSE6281 pattern_2a RNA\n",
      "Number of genes : 54675\n",
      "['1007_s_at' '1053_at' '117_at' ... 'AFFX-r2-Ec-bioD-5_at'\n",
      " 'AFFX-r2-P1-cre-3_at' 'AFFX-r2-P1-cre-5_at']\n",
      " ****************** \n",
      "4 GSE168735 pattern_2a RNA\n",
      "Number of genes : 21201\n",
      "['10000_at_AB_1:51' '10000_at_AB_52:60' '10001_at_AB_1:4;6:19' ...\n",
      " '999_at_AB_12:22' '999_at_AB_1:11' '9_at']\n",
      " ****************** \n",
      "5 GSE53795 pattern_3 RNA\n",
      "Number of genes : 54675\n",
      "['1007_s_at' '1053_at' '117_at' ... 'AFFX-r2-Ec-bioD-5_at'\n",
      " 'AFFX-r2-P1-cre-3_at' 'AFFX-r2-P1-cre-5_at']\n",
      " ****************** \n",
      "6 GSE11792 pattern_3 RNA\n",
      "Number of genes : 22277\n",
      "['1007_s_at' '1053_at' '117_at' ... 'AFFX-r2-Ec-bioD-5_at'\n",
      " 'AFFX-r2-P1-cre-3_at' 'AFFX-r2-P1-cre-5_at']\n",
      " ****************** \n",
      "7 GSE10433 pattern_3 RNA\n",
      "Number of genes : 22277\n",
      "['1007_s_at' '1053_at' '117_at' ... 'AFFX-r2-Ec-bioD-5_at'\n",
      " 'AFFX-r2-P1-cre-3_at' 'AFFX-r2-P1-cre-5_at']\n",
      " ****************** \n",
      "8 GSE6475 pattern_3 RNA\n",
      "Number of genes : 22277\n",
      "['1007_s_at' '1053_at' '117_at' ... 'AFFX-r2-Ec-bioD-5_at'\n",
      " 'AFFX-r2-P1-cre-3_at' 'AFFX-r2-P1-cre-5_at']\n",
      " ****************** \n",
      "9 GSE108110 pattern_3 RNA\n",
      "Number of genes : 54675\n",
      "['1007_s_at' '1053_at' '117_at' ... 'AFFX-r2-Ec-bioD-5_at'\n",
      " 'AFFX-r2-P1-cre-3_at' 'AFFX-r2-P1-cre-5_at']\n",
      " ****************** \n",
      "10 GSE92566 pattern_4a RNA\n",
      "Number of genes : 54675\n",
      "['1007_s_at' '1053_at' '117_at' ... 'AFFX-r2-Ec-bioD-5_at'\n",
      " 'AFFX-r2-P1-cre-3_at' 'AFFX-r2-P1-cre-5_at']\n",
      " ****************** \n",
      "11 GSE153011 pattern_4a RNA\n",
      "Number of genes : 45234\n",
      "['ILMN_1343291' 'ILMN_1343295' 'ILMN_1651199' ... 'ILMN_3311180'\n",
      " 'ILMN_3311185' 'ILMN_3311190']\n",
      " ****************** \n",
      "12 GSE9285 pattern_4a RNA\n",
      "Number of genes : 28495\n",
      "['A_23_P100001' 'A_23_P100022' 'A_23_P100056' ... 'A_32_P9986'\n",
      " 'A_32_P99864' 'A_32_P99902']\n",
      " ****************** \n",
      "13 GSE32887 pattern_4b RNA\n",
      "Number of genes : 54675\n",
      "['1007_s_at' '1053_at' '117_at' ... 'AFFX-r2-Ec-bioD-5_at'\n",
      " 'AFFX-r2-P1-cre-3_at' 'AFFX-r2-P1-cre-5_at']\n",
      " ****************** \n"
     ]
    }
   ],
   "source": [
    "m.examine_genes(ignore_sra=True)"
   ]
  },
  {
   "cell_type": "markdown",
   "id": "502227bd-0a25-4004-975d-0d249d7b6187",
   "metadata": {},
   "source": [
    "Let's consider the genes from **GSE65127** which includes 54675 genes to our target gene pool. We want to know what fraction of the genes from different datasets are included in this gene pool :"
   ]
  },
  {
   "cell_type": "code",
   "execution_count": 27,
   "id": "6c302cf4-8911-45bd-b5d5-e79ef41a5e18",
   "metadata": {},
   "outputs": [
    {
     "name": "stderr",
     "output_type": "stream",
     "text": [
      "100%|████████████████████████████████████| 30/30 [00:28<00:00,  1.06it/s]\n"
     ]
    }
   ],
   "source": [
    "m = main.Module()\n",
    "m.load_dataset()"
   ]
  },
  {
   "cell_type": "code",
   "execution_count": 30,
   "id": "0b1138d5-e054-440f-a968-e73c0fff8526",
   "metadata": {},
   "outputs": [
    {
     "name": "stdout",
     "output_type": "stream",
     "text": [
      "1 pattern_1 GSE148346  - Number of genes in the pool :  30147  - Fraction of the genes in the pool :  1.0\n",
      "2 pattern_1 GSE65127  - Number of genes in the pool :  54675  - Fraction of the genes in the pool :  1.0\n",
      "3 pattern_2a GSE6281  - Number of genes in the pool :  54675  - Fraction of the genes in the pool :  1.0\n",
      "4 pattern_2a GSE168735  - Number of genes in the pool :  189  - Fraction of the genes in the pool :  0.008914673836139805\n",
      "5 pattern_3 GSE53795  - Number of genes in the pool :  54675  - Fraction of the genes in the pool :  1.0\n",
      "6 pattern_3 GSE11792  - Number of genes in the pool :  22277  - Fraction of the genes in the pool :  1.0\n",
      "7 pattern_3 GSE10433  - Number of genes in the pool :  22277  - Fraction of the genes in the pool :  1.0\n",
      "8 pattern_3 GSE6475  - Number of genes in the pool :  22277  - Fraction of the genes in the pool :  1.0\n",
      "9 pattern_3 GSE108110  - Number of genes in the pool :  54675  - Fraction of the genes in the pool :  1.0\n",
      "10 pattern_4a GSE92566  - Number of genes in the pool :  54675  - Fraction of the genes in the pool :  1.0\n",
      "11 pattern_4a GSE153011  - Number of genes in the pool :  0  - Fraction of the genes in the pool :  0.0\n",
      "12 pattern_4a GSE9285  - Number of genes in the pool :  0  - Fraction of the genes in the pool :  0.0\n",
      "13 pattern_4b GSE32887  - Number of genes in the pool :  54675  - Fraction of the genes in the pool :  1.0\n"
     ]
    }
   ],
   "source": [
    "m.examine_gene_pool()"
   ]
  },
  {
   "cell_type": "markdown",
   "id": "14e1978b-a8d0-4b9e-a295-5a5dc86685bf",
   "metadata": {},
   "source": [
    "This confirms that the datasets **4 - GSE168735**, **11 - GSE153011** and **12 - GSE9285** have a different format compared to the rest of the datasets. This is verified by seeing that barely any of the gene names for the dataset has appeared in the gene pool. We require a conversion if possible. \n",
    "\n",
    "Ideally, we might require a database for doing so."
   ]
  },
  {
   "cell_type": "code",
   "execution_count": null,
   "id": "308194f1-8689-4faf-a1a8-09b840b76860",
   "metadata": {},
   "outputs": [],
   "source": []
  }
 ],
 "metadata": {
  "kernelspec": {
   "display_name": "Python 3 (ipykernel)",
   "language": "python",
   "name": "python3"
  },
  "language_info": {
   "codemirror_mode": {
    "name": "ipython",
    "version": 3
   },
   "file_extension": ".py",
   "mimetype": "text/x-python",
   "name": "python",
   "nbconvert_exporter": "python",
   "pygments_lexer": "ipython3",
   "version": "3.10.13"
  }
 },
 "nbformat": 4,
 "nbformat_minor": 5
}
